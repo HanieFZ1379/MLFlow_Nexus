{
 "cells": [
  {
   "cell_type": "markdown",
   "metadata": {
    "id": "S8ULDgPF4n7o"
   },
   "source": [
    "<p style=\"text-align:center;\">\n",
    "    <font face=\"Georgia\" size=5 color=\"red\"><b>Documenting the Lifecycle of Machine Learning Models</b></font>\n",
    "</p>"
   ]
  },
  {
   "cell_type": "markdown",
   "metadata": {
    "id": "GvJui74zAHZy"
   },
   "source": [
    "1. Introduction\n",
    "   - Preprocessing\n",
    "      - Handling Outliers\n",
    "      - Missing Values\n",
    "      - Duplicated Values\n",
    "      - Feature Scaling\n",
    "   - Modeling\n",
    "      - Splitting the Data\n",
    "      - Models Making\n",
    "      - Evaluation Results\n",
    "2. Model Selection Criteria for Production\n",
    "3. Selected Models for Production\n",
    "  - Save Model\n",
    "4. Process for Promoting Models to Production\n",
    "  - Model Preparation for New Data\n",
    "  - Test Model Versions\n",
    "  - Model Registration\n",
    "\n",
    "5.Deployment to Production\n",
    "\n",
    "\n",
    "\n",
    "\n",
    "\n",
    "\n",
    "\n",
    "\n",
    "\n",
    "\n"
   ]
  },
  {
   "cell_type": "markdown",
   "metadata": {
    "id": "fnnD2igF43Fk"
   },
   "source": [
    "<p style=\"text-align:center;\">\n",
    "    <font face=\"Georgia\" size=5 color=\"green\"><b>1. Introduction</b></font>\n",
    "</p>"
   ]
  },
  {
   "cell_type": "markdown",
   "metadata": {
    "id": "26f3ehOZ5TMW"
   },
   "source": [
    "This document covers the lifecycle process of machine learning models trained on a dataset related to heart disease diagnosis. The project uses various models such as K-Nearest Neighbors (KNN), Logistic Regression, Support Vector Machine (SVM), Random Forest, and Decision Tree for prediction and classification."
   ]
  },
  {
   "cell_type": "code",
   "execution_count": 3,
   "metadata": {
    "colab": {
     "base_uri": "https://localhost:8080/",
     "height": 100
    },
    "id": "d9vpvxxW5UKS",
    "outputId": "4eeabc56-8f63-40ce-f55f-a725ce2c324c"
   },
   "outputs": [
    {
     "data": {
      "application/vnd.google.colaboratory.intrinsic+json": {
       "summary": "{\n  \"name\": \"df\",\n  \"rows\": 303,\n  \"fields\": [\n    {\n      \"column\": \"age\",\n      \"properties\": {\n        \"dtype\": \"number\",\n        \"std\": 9,\n        \"min\": 29,\n        \"max\": 77,\n        \"num_unique_values\": 41,\n        \"samples\": [\n          46,\n          66,\n          48\n        ],\n        \"semantic_type\": \"\",\n        \"description\": \"\"\n      }\n    },\n    {\n      \"column\": \"sex\",\n      \"properties\": {\n        \"dtype\": \"number\",\n        \"std\": 0,\n        \"min\": 0,\n        \"max\": 1,\n        \"num_unique_values\": 2,\n        \"samples\": [\n          0,\n          1\n        ],\n        \"semantic_type\": \"\",\n        \"description\": \"\"\n      }\n    },\n    {\n      \"column\": \"cp\",\n      \"properties\": {\n        \"dtype\": \"number\",\n        \"std\": 1,\n        \"min\": 0,\n        \"max\": 3,\n        \"num_unique_values\": 4,\n        \"samples\": [\n          2,\n          0\n        ],\n        \"semantic_type\": \"\",\n        \"description\": \"\"\n      }\n    },\n    {\n      \"column\": \"trestbps\",\n      \"properties\": {\n        \"dtype\": \"number\",\n        \"std\": 17,\n        \"min\": 94,\n        \"max\": 200,\n        \"num_unique_values\": 49,\n        \"samples\": [\n          104,\n          123\n        ],\n        \"semantic_type\": \"\",\n        \"description\": \"\"\n      }\n    },\n    {\n      \"column\": \"chol\",\n      \"properties\": {\n        \"dtype\": \"number\",\n        \"std\": 51,\n        \"min\": 126,\n        \"max\": 564,\n        \"num_unique_values\": 152,\n        \"samples\": [\n          277,\n          169\n        ],\n        \"semantic_type\": \"\",\n        \"description\": \"\"\n      }\n    },\n    {\n      \"column\": \"fbs\",\n      \"properties\": {\n        \"dtype\": \"number\",\n        \"std\": 0,\n        \"min\": 0,\n        \"max\": 1,\n        \"num_unique_values\": 2,\n        \"samples\": [\n          0,\n          1\n        ],\n        \"semantic_type\": \"\",\n        \"description\": \"\"\n      }\n    },\n    {\n      \"column\": \"restecg\",\n      \"properties\": {\n        \"dtype\": \"number\",\n        \"std\": 0,\n        \"min\": 0,\n        \"max\": 2,\n        \"num_unique_values\": 3,\n        \"samples\": [\n          0,\n          1\n        ],\n        \"semantic_type\": \"\",\n        \"description\": \"\"\n      }\n    },\n    {\n      \"column\": \"thalach\",\n      \"properties\": {\n        \"dtype\": \"number\",\n        \"std\": 22,\n        \"min\": 71,\n        \"max\": 202,\n        \"num_unique_values\": 91,\n        \"samples\": [\n          159,\n          152\n        ],\n        \"semantic_type\": \"\",\n        \"description\": \"\"\n      }\n    },\n    {\n      \"column\": \"exang\",\n      \"properties\": {\n        \"dtype\": \"number\",\n        \"std\": 0,\n        \"min\": 0,\n        \"max\": 1,\n        \"num_unique_values\": 2,\n        \"samples\": [\n          1,\n          0\n        ],\n        \"semantic_type\": \"\",\n        \"description\": \"\"\n      }\n    },\n    {\n      \"column\": \"oldpeak\",\n      \"properties\": {\n        \"dtype\": \"number\",\n        \"std\": 1.1610750220686343,\n        \"min\": 0.0,\n        \"max\": 6.2,\n        \"num_unique_values\": 40,\n        \"samples\": [\n          1.9,\n          3.0\n        ],\n        \"semantic_type\": \"\",\n        \"description\": \"\"\n      }\n    },\n    {\n      \"column\": \"slope\",\n      \"properties\": {\n        \"dtype\": \"number\",\n        \"std\": 0,\n        \"min\": 0,\n        \"max\": 2,\n        \"num_unique_values\": 3,\n        \"samples\": [\n          0,\n          2\n        ],\n        \"semantic_type\": \"\",\n        \"description\": \"\"\n      }\n    },\n    {\n      \"column\": \"ca\",\n      \"properties\": {\n        \"dtype\": \"number\",\n        \"std\": 1,\n        \"min\": 0,\n        \"max\": 4,\n        \"num_unique_values\": 5,\n        \"samples\": [\n          2,\n          4\n        ],\n        \"semantic_type\": \"\",\n        \"description\": \"\"\n      }\n    },\n    {\n      \"column\": \"thal\",\n      \"properties\": {\n        \"dtype\": \"number\",\n        \"std\": 0,\n        \"min\": 0,\n        \"max\": 3,\n        \"num_unique_values\": 4,\n        \"samples\": [\n          2,\n          0\n        ],\n        \"semantic_type\": \"\",\n        \"description\": \"\"\n      }\n    },\n    {\n      \"column\": \"target\",\n      \"properties\": {\n        \"dtype\": \"number\",\n        \"std\": 0,\n        \"min\": 0,\n        \"max\": 1,\n        \"num_unique_values\": 2,\n        \"samples\": [\n          0,\n          1\n        ],\n        \"semantic_type\": \"\",\n        \"description\": \"\"\n      }\n    }\n  ]\n}",
       "type": "dataframe",
       "variable_name": "df"
      },
      "text/html": [
       "\n",
       "  <div id=\"df-575b2297-9e56-4d2d-b0fc-b56bfe1bd705\" class=\"colab-df-container\">\n",
       "    <div>\n",
       "<style scoped>\n",
       "    .dataframe tbody tr th:only-of-type {\n",
       "        vertical-align: middle;\n",
       "    }\n",
       "\n",
       "    .dataframe tbody tr th {\n",
       "        vertical-align: top;\n",
       "    }\n",
       "\n",
       "    .dataframe thead th {\n",
       "        text-align: right;\n",
       "    }\n",
       "</style>\n",
       "<table border=\"1\" class=\"dataframe\">\n",
       "  <thead>\n",
       "    <tr style=\"text-align: right;\">\n",
       "      <th></th>\n",
       "      <th>age</th>\n",
       "      <th>sex</th>\n",
       "      <th>cp</th>\n",
       "      <th>trestbps</th>\n",
       "      <th>chol</th>\n",
       "      <th>fbs</th>\n",
       "      <th>restecg</th>\n",
       "      <th>thalach</th>\n",
       "      <th>exang</th>\n",
       "      <th>oldpeak</th>\n",
       "      <th>slope</th>\n",
       "      <th>ca</th>\n",
       "      <th>thal</th>\n",
       "      <th>target</th>\n",
       "    </tr>\n",
       "  </thead>\n",
       "  <tbody>\n",
       "    <tr>\n",
       "      <th>0</th>\n",
       "      <td>63</td>\n",
       "      <td>1</td>\n",
       "      <td>3</td>\n",
       "      <td>145</td>\n",
       "      <td>233</td>\n",
       "      <td>1</td>\n",
       "      <td>0</td>\n",
       "      <td>150</td>\n",
       "      <td>0</td>\n",
       "      <td>2.3</td>\n",
       "      <td>0</td>\n",
       "      <td>0</td>\n",
       "      <td>1</td>\n",
       "      <td>1</td>\n",
       "    </tr>\n",
       "  </tbody>\n",
       "</table>\n",
       "</div>\n",
       "    <div class=\"colab-df-buttons\">\n",
       "\n",
       "  <div class=\"colab-df-container\">\n",
       "    <button class=\"colab-df-convert\" onclick=\"convertToInteractive('df-575b2297-9e56-4d2d-b0fc-b56bfe1bd705')\"\n",
       "            title=\"Convert this dataframe to an interactive table.\"\n",
       "            style=\"display:none;\">\n",
       "\n",
       "  <svg xmlns=\"http://www.w3.org/2000/svg\" height=\"24px\" viewBox=\"0 -960 960 960\">\n",
       "    <path d=\"M120-120v-720h720v720H120Zm60-500h600v-160H180v160Zm220 220h160v-160H400v160Zm0 220h160v-160H400v160ZM180-400h160v-160H180v160Zm440 0h160v-160H620v160ZM180-180h160v-160H180v160Zm440 0h160v-160H620v160Z\"/>\n",
       "  </svg>\n",
       "    </button>\n",
       "\n",
       "  <style>\n",
       "    .colab-df-container {\n",
       "      display:flex;\n",
       "      gap: 12px;\n",
       "    }\n",
       "\n",
       "    .colab-df-convert {\n",
       "      background-color: #E8F0FE;\n",
       "      border: none;\n",
       "      border-radius: 50%;\n",
       "      cursor: pointer;\n",
       "      display: none;\n",
       "      fill: #1967D2;\n",
       "      height: 32px;\n",
       "      padding: 0 0 0 0;\n",
       "      width: 32px;\n",
       "    }\n",
       "\n",
       "    .colab-df-convert:hover {\n",
       "      background-color: #E2EBFA;\n",
       "      box-shadow: 0px 1px 2px rgba(60, 64, 67, 0.3), 0px 1px 3px 1px rgba(60, 64, 67, 0.15);\n",
       "      fill: #174EA6;\n",
       "    }\n",
       "\n",
       "    .colab-df-buttons div {\n",
       "      margin-bottom: 4px;\n",
       "    }\n",
       "\n",
       "    [theme=dark] .colab-df-convert {\n",
       "      background-color: #3B4455;\n",
       "      fill: #D2E3FC;\n",
       "    }\n",
       "\n",
       "    [theme=dark] .colab-df-convert:hover {\n",
       "      background-color: #434B5C;\n",
       "      box-shadow: 0px 1px 3px 1px rgba(0, 0, 0, 0.15);\n",
       "      filter: drop-shadow(0px 1px 2px rgba(0, 0, 0, 0.3));\n",
       "      fill: #FFFFFF;\n",
       "    }\n",
       "  </style>\n",
       "\n",
       "    <script>\n",
       "      const buttonEl =\n",
       "        document.querySelector('#df-575b2297-9e56-4d2d-b0fc-b56bfe1bd705 button.colab-df-convert');\n",
       "      buttonEl.style.display =\n",
       "        google.colab.kernel.accessAllowed ? 'block' : 'none';\n",
       "\n",
       "      async function convertToInteractive(key) {\n",
       "        const element = document.querySelector('#df-575b2297-9e56-4d2d-b0fc-b56bfe1bd705');\n",
       "        const dataTable =\n",
       "          await google.colab.kernel.invokeFunction('convertToInteractive',\n",
       "                                                    [key], {});\n",
       "        if (!dataTable) return;\n",
       "\n",
       "        const docLinkHtml = 'Like what you see? Visit the ' +\n",
       "          '<a target=\"_blank\" href=https://colab.research.google.com/notebooks/data_table.ipynb>data table notebook</a>'\n",
       "          + ' to learn more about interactive tables.';\n",
       "        element.innerHTML = '';\n",
       "        dataTable['output_type'] = 'display_data';\n",
       "        await google.colab.output.renderOutput(dataTable, element);\n",
       "        const docLink = document.createElement('div');\n",
       "        docLink.innerHTML = docLinkHtml;\n",
       "        element.appendChild(docLink);\n",
       "      }\n",
       "    </script>\n",
       "  </div>\n",
       "\n",
       "\n",
       "    </div>\n",
       "  </div>\n"
      ],
      "text/plain": [
       "   age  sex  cp  trestbps  chol  fbs  restecg  thalach  exang  oldpeak  slope  \\\n",
       "0   63    1   3       145   233    1        0      150      0      2.3      0   \n",
       "\n",
       "   ca  thal  target  \n",
       "0   0     1       1  "
      ]
     },
     "execution_count": 3,
     "metadata": {},
     "output_type": "execute_result"
    }
   ],
   "source": [
    "import pandas as pd\n",
    "df = pd.read_csv(\"/content/heart.csv\")\n",
    "df.head(1)"
   ]
  },
  {
   "cell_type": "code",
   "execution_count": 5,
   "metadata": {
    "colab": {
     "base_uri": "https://localhost:8080/"
    },
    "id": "01lED1an5yyf",
    "outputId": "d4db1ff0-0ec9-4337-953c-1f0210615f71"
   },
   "outputs": [
    {
     "name": "stdout",
     "output_type": "stream",
     "text": [
      "<class 'pandas.core.frame.DataFrame'>\n",
      "RangeIndex: 303 entries, 0 to 302\n",
      "Data columns (total 14 columns):\n",
      " #   Column    Non-Null Count  Dtype  \n",
      "---  ------    --------------  -----  \n",
      " 0   age       303 non-null    int64  \n",
      " 1   sex       303 non-null    int64  \n",
      " 2   cp        303 non-null    int64  \n",
      " 3   trestbps  303 non-null    int64  \n",
      " 4   chol      303 non-null    int64  \n",
      " 5   fbs       303 non-null    int64  \n",
      " 6   restecg   303 non-null    int64  \n",
      " 7   thalach   303 non-null    int64  \n",
      " 8   exang     303 non-null    int64  \n",
      " 9   oldpeak   303 non-null    float64\n",
      " 10  slope     303 non-null    int64  \n",
      " 11  ca        303 non-null    int64  \n",
      " 12  thal      303 non-null    int64  \n",
      " 13  target    303 non-null    int64  \n",
      "dtypes: float64(1), int64(13)\n",
      "memory usage: 33.3 KB\n"
     ]
    }
   ],
   "source": [
    "df.info()"
   ]
  },
  {
   "cell_type": "markdown",
   "metadata": {
    "id": "i8bM8GlS7Ei7"
   },
   "source": [
    "\n",
    "<p style=\"text-align:center;\">\n",
    "    <font face=\"Georgia\" size=5 color=\"green\"><b> 1_1 .Preprocessing\n",
    "</b></font>\n",
    "</p>"
   ]
  },
  {
   "cell_type": "markdown",
   "metadata": {
    "id": "WULgON-T7euG"
   },
   "source": [
    "<p style=\"text-align:center;\">\n",
    "    <font face=\"Georgia\" size=5 color=\"green\"><b> Handling Outliers\n",
    "</b></font>\n",
    "</p>"
   ]
  },
  {
   "cell_type": "code",
   "execution_count": 13,
   "metadata": {
    "id": "0NcmYs0o7mU6"
   },
   "outputs": [],
   "source": [
    "import numpy as np\n",
    "from scipy.stats import boxcox\n",
    "\n",
    "df.rename(columns={\n",
    "    \"age\": \"Age\",\n",
    "    \"sex\": \"Sex\",\n",
    "    \"cp\": \"ChestPain\",\n",
    "    \"trestbps\": \"RestingBloodPressure\",\n",
    "    \"chol\": \"Cholesterol\",\n",
    "    \"fbs\": \"FastingBloodSugar\",\n",
    "    \"restecg\": \"RestingECG\",\n",
    "    \"thalach\": \"MaxHeartRate\",\n",
    "    \"exang\": \"ExcerciseAngina\",\n",
    "    \"oldpeak\": \"OldPeak\",\n",
    "    \"slope\": \"STSlope\",\n",
    "    \"ca\": \"nMajorVessels\",\n",
    "    \"thal\": \"Thalium\",\n",
    "    \"target\": \"Status\"\n",
    "}, inplace=True)\n",
    "\n",
    "\n",
    "mappings = {\n",
    "    'Sex': {0: \"Female\", 1: \"Male\"},\n",
    "    'ChestPain': {0: \"Typical angina\", 1: \"Atypical angina\", 2: \"Non-anginal pain\", 3: \"Asymptomatic\"},\n",
    "    \"FastingBloodSugar\": {0: False, 1: True},\n",
    "    \"RestingECG\": {0: \"Normal\", 1: \"Abnormality\", 2: \"Hypertrophy\"},\n",
    "    \"ExcerciseAngina\": {0: \"No\", 1: \"Yes\"},\n",
    "    \"STSlope\": {0: \"Upsloping\", 1: \"Flat\", 2: \"Downsloping\"},\n",
    "    \"Thalium\": {0: \"Normal\", 1: \"Fixed defect\", 2: \"Reversible defect\", 3: \"Not described\"},\n",
    "    \"Status\": {0: \"No Disease\", 1: \"Heart Disease\"}\n",
    "}\n",
    "\n",
    "def map_values(x, mapping):\n",
    "    return mapping.get(x, x)\n",
    "\n",
    "df_copy = df.copy()\n",
    "for feature, mapping in mappings.items():\n",
    "    df_copy[feature] = df_copy[feature].map(lambda x: map_values(x, mapping))\n",
    "    df_copy[feature] = df_copy[feature].astype(object)\n",
    "\n",
    "def box_cox_transform(heart_df):\n",
    "    transformed_df = heart_df.copy()\n",
    "    features_to_transform = [\"Age\", \"RestingBloodPressure\", \"Cholesterol\", \"MaxHeartRate\", \"OldPeak\"]\n",
    "\n",
    "    for feature in features_to_transform:\n",
    "        if np.any(heart_df[feature] <= 0):\n",
    "            min_value = abs(heart_df[feature].min()) + 1\n",
    "            heart_df[feature] += min_value\n",
    "        transformed_feature, lambda_value = boxcox(heart_df[feature])\n",
    "        transformed_df[feature] = transformed_feature\n",
    "    return transformed_df\n",
    "\n",
    "\n",
    "def find_outliers(data):\n",
    "    lower_bound = data.quantile(0.25) - 1.5 * (data.quantile(0.75) - data.quantile(0.25))\n",
    "    upper_bound = data.quantile(0.75) + 1.5 * (data.quantile(0.75) - data.quantile(0.25))\n",
    "    outliers = data[(data < lower_bound) | (data > upper_bound)]\n",
    "    return outliers, lower_bound, upper_bound\n",
    "\n",
    "\n",
    "transformed_df = box_cox_transform(df_copy)\n",
    "\n",
    "outliers_age, _, _ = find_outliers(transformed_df['Age'])\n",
    "outliers_max_hr, _, _ = find_outliers(transformed_df['MaxHeartRate'])\n",
    "outliers_rbp, _, _ = find_outliers(transformed_df['RestingBloodPressure'])\n",
    "outliers_chol, _, _ = find_outliers(transformed_df['Cholesterol'])\n",
    "outliers_old_peak, _, _ = find_outliers(transformed_df['OldPeak'])\n",
    "\n",
    "\n",
    "transformed_df = transformed_df[~transformed_df['Age'].isin(outliers_age)]\n",
    "transformed_df = transformed_df[~transformed_df['MaxHeartRate'].isin(outliers_max_hr)]\n",
    "transformed_df = transformed_df[~transformed_df['RestingBloodPressure'].isin(outliers_rbp)]\n",
    "transformed_df = transformed_df[~transformed_df['Cholesterol'].isin(outliers_chol)]\n",
    "transformed_df = transformed_df[~transformed_df['OldPeak'].isin(outliers_old_peak)]\n",
    "\n",
    "transformed = transformed_df.copy()\n",
    "\n"
   ]
  },
  {
   "cell_type": "markdown",
   "metadata": {
    "id": "UyDfdIChwKyk"
   },
   "source": []
  },
  {
   "cell_type": "markdown",
   "metadata": {
    "id": "WJPqnaYi-oN_"
   },
   "source": [
    "\n",
    "<p style=\"text-align:center;\">\n",
    "    <font face=\"Georgia\" size=5 color=\"green\"><b> Missing Values\n",
    "</b></font>\n",
    "</p>"
   ]
  },
  {
   "cell_type": "code",
   "execution_count": 14,
   "metadata": {
    "colab": {
     "base_uri": "https://localhost:8080/"
    },
    "id": "bCmCwf568mzK",
    "outputId": "ed933abe-7ef6-4a49-fe6f-0779a752a389"
   },
   "outputs": [
    {
     "name": "stdout",
     "output_type": "stream",
     "text": [
      "____________________________________________________________________________________________________\n",
      "Missing Values\n",
      "Age                     0\n",
      "Sex                     0\n",
      "ChestPain               0\n",
      "RestingBloodPressure    0\n",
      "Cholesterol             0\n",
      "FastingBloodSugar       0\n",
      "RestingECG              0\n",
      "MaxHeartRate            0\n",
      "ExcerciseAngina         0\n",
      "OldPeak                 0\n",
      "STSlope                 0\n",
      "nMajorVessels           0\n",
      "Thalium                 0\n",
      "Status                  0\n",
      "dtype: int64\n"
     ]
    }
   ],
   "source": [
    "print(\"_\" * 100)\n",
    "print(\"Missing Values\")\n",
    "print(df.isnull().sum())"
   ]
  },
  {
   "cell_type": "markdown",
   "metadata": {
    "id": "6aXeii2Q_AqL"
   },
   "source": [
    "\n",
    "<p style=\"text-align:center;\">\n",
    "    <font face=\"Georgia\" size=5 color=\"green\"><b>Duplicated Values\n",
    "</b></font>\n",
    "</p>"
   ]
  },
  {
   "cell_type": "code",
   "execution_count": 15,
   "metadata": {
    "colab": {
     "base_uri": "https://localhost:8080/"
    },
    "id": "UL2L67JV_HNE",
    "outputId": "e4a40a93-96b5-4083-c878-f2a4307e6ca4"
   },
   "outputs": [
    {
     "name": "stdout",
     "output_type": "stream",
     "text": [
      "____________________________________________________________________________________________________\n",
      "     Age  Sex  ChestPain  RestingBloodPressure  Cholesterol  \\\n",
      "164   38    1          2                   138          175   \n",
      "\n",
      "     FastingBloodSugar  RestingECG  MaxHeartRate  ExcerciseAngina  OldPeak  \\\n",
      "164                  0           1           173                0      0.0   \n",
      "\n",
      "     STSlope  nMajorVessels  Thalium  Status  \n",
      "164        2              4        2       1  \n",
      "____________________________________________________________________________________________________\n",
      "            Age   Sex         ChestPain  RestingBloodPressure  Cholesterol  \\\n",
      "164  119.658161  Male  Non-anginal pain              1.388556     3.977931   \n",
      "\n",
      "    FastingBloodSugar   RestingECG  MaxHeartRate ExcerciseAngina  OldPeak  \\\n",
      "164             False  Abnormality  46024.077519              No      0.0   \n",
      "\n",
      "         STSlope  nMajorVessels            Thalium         Status  \n",
      "164  Downsloping              4  Reversible defect  Heart Disease  \n"
     ]
    },
    {
     "name": "stderr",
     "output_type": "stream",
     "text": [
      "<ipython-input-15-98245eb5c69f>:5: UserWarning: Boolean Series key will be reindexed to match DataFrame index.\n",
      "  print(transformed[duplicated_rows])\n"
     ]
    }
   ],
   "source": [
    "duplicated_rows = df.duplicated()\n",
    "print(\"_\" * 100)\n",
    "print(df[duplicated_rows])\n",
    "print(\"_\" * 100)\n",
    "print(transformed[duplicated_rows])\n",
    "df.drop(index=164, axis=0, inplace=True)\n",
    "transformed.drop(index=164, axis=0, inplace=True)"
   ]
  },
  {
   "cell_type": "markdown",
   "metadata": {
    "id": "IUhz9oxq_XRQ"
   },
   "source": [
    "\n",
    "<p style=\"text-align:center;\">\n",
    "    <font face=\"Georgia\" size=5 color=\"green\"><b> Feature Scaling\n",
    "</b></font>\n",
    "</p>"
   ]
  },
  {
   "cell_type": "code",
   "execution_count": 17,
   "metadata": {
    "colab": {
     "base_uri": "https://localhost:8080/",
     "height": 226
    },
    "id": "FxvJFFWd_cjU",
    "outputId": "58100549-0eaa-4b60-ffb9-13104f371031"
   },
   "outputs": [
    {
     "data": {
      "application/vnd.google.colaboratory.intrinsic+json": {
       "summary": "{\n  \"name\": \"X\",\n  \"rows\": 302,\n  \"fields\": [\n    {\n      \"column\": \"Age\",\n      \"properties\": {\n        \"dtype\": \"number\",\n        \"std\": 1.0016597521794575,\n        \"min\": -2.8141917242401924,\n        \"max\": 2.4996708828440624,\n        \"num_unique_values\": 41,\n        \"samples\": [\n          -0.9321987175645188,\n          1.2819107020539209,\n          -0.7107877756026748\n        ],\n        \"semantic_type\": \"\",\n        \"description\": \"\"\n      }\n    },\n    {\n      \"column\": \"Sex\",\n      \"properties\": {\n        \"dtype\": \"number\",\n        \"std\": 1.0016597521794577,\n        \"min\": -1.4648663192705789,\n        \"max\": 0.682656148786289,\n        \"num_unique_values\": 2,\n        \"samples\": [\n          -1.4648663192705789,\n          0.682656148786289\n        ],\n        \"semantic_type\": \"\",\n        \"description\": \"\"\n      }\n    },\n    {\n      \"column\": \"ChestPain\",\n      \"properties\": {\n        \"dtype\": \"number\",\n        \"std\": 1.001659752179456,\n        \"min\": -0.9352079866919768,\n        \"max\": 1.9764704873387136,\n        \"num_unique_values\": 4,\n        \"samples\": [\n          1.00591099599515,\n          -0.9352079866919768\n        ],\n        \"semantic_type\": \"\",\n        \"description\": \"\"\n      }\n    },\n    {\n      \"column\": \"RestingBloodPressure\",\n      \"properties\": {\n        \"dtype\": \"number\",\n        \"std\": 1.001659752179457,\n        \"min\": -2.1445205631636104,\n        \"max\": 3.9007763959763575,\n        \"num_unique_values\": 49,\n        \"samples\": [\n          -1.5742095292824814,\n          -0.49061856490833616\n        ],\n        \"semantic_type\": \"\",\n        \"description\": \"\"\n      }\n    },\n    {\n      \"column\": \"Cholesterol\",\n      \"properties\": {\n        \"dtype\": \"number\",\n        \"std\": 1.001659752179458,\n        \"min\": -2.3322099296630983,\n        \"max\": 6.145034461975383,\n        \"num_unique_values\": 152,\n        \"samples\": [\n          0.5903103971346431,\n          -1.4999690418995029\n        ],\n        \"semantic_type\": \"\",\n        \"description\": \"\"\n      }\n    },\n    {\n      \"column\": \"FastingBloodSugar\",\n      \"properties\": {\n        \"dtype\": \"number\",\n        \"std\": 1.0016597521794546,\n        \"min\": -0.418446264488753,\n        \"max\": 2.389793110524656,\n        \"num_unique_values\": 2,\n        \"samples\": [\n          -0.418446264488753,\n          2.389793110524656\n        ],\n        \"semantic_type\": \"\",\n        \"description\": \"\"\n      }\n    },\n    {\n      \"column\": \"RestingECG\",\n      \"properties\": {\n        \"dtype\": \"number\",\n        \"std\": 1.0016597521794586,\n        \"min\": -1.0025411992532056,\n        \"max\": 2.805854299796707,\n        \"num_unique_values\": 3,\n        \"samples\": [\n          -1.0025411992532056,\n          0.901656550271751\n        ],\n        \"semantic_type\": \"\",\n        \"description\": \"\"\n      }\n    },\n    {\n      \"column\": \"MaxHeartRate\",\n      \"properties\": {\n        \"dtype\": \"number\",\n        \"std\": 1.001659752179458,\n        \"min\": -3.436149441845943,\n        \"max\": 2.292986777738901,\n        \"num_unique_values\": 91,\n        \"samples\": [\n          0.41243061405837955,\n          0.10629356415689939\n        ],\n        \"semantic_type\": \"\",\n        \"description\": \"\"\n      }\n    },\n    {\n      \"column\": \"ExcerciseAngina\",\n      \"properties\": {\n        \"dtype\": \"number\",\n        \"std\": 1.0016597521794566,\n        \"min\": -0.6983442768893001,\n        \"max\": 1.4319584667528071,\n        \"num_unique_values\": 2,\n        \"samples\": [\n          1.4319584667528071,\n          -0.6983442768893001\n        ],\n        \"semantic_type\": \"\",\n        \"description\": \"\"\n      }\n    },\n    {\n      \"column\": \"OldPeak\",\n      \"properties\": {\n        \"dtype\": \"number\",\n        \"std\": 1.001659752179458,\n        \"min\": -0.8995441017415231,\n        \"max\": 4.447460266832533,\n        \"num_unique_values\": 40,\n        \"samples\": [\n          0.7390540112085907,\n          1.687716076600762\n        ],\n        \"semantic_type\": \"\",\n        \"description\": \"\"\n      }\n    },\n    {\n      \"column\": \"STSlope\",\n      \"properties\": {\n        \"dtype\": \"number\",\n        \"std\": 1.0016597521794586,\n        \"min\": -2.27118178775087,\n        \"max\": 0.9795144203096169,\n        \"num_unique_values\": 3,\n        \"samples\": [\n          -2.27118178775087,\n          0.9795144203096169\n        ],\n        \"semantic_type\": \"\",\n        \"description\": \"\"\n      }\n    },\n    {\n      \"column\": \"nMajorVessels\",\n      \"properties\": {\n        \"dtype\": \"number\",\n        \"std\": 1.0016597521794595,\n        \"min\": -0.7149112437652402,\n        \"max\": 3.2648711639232855,\n        \"num_unique_values\": 5,\n        \"samples\": [\n          1.2749799600790226,\n          3.2648711639232855\n        ],\n        \"semantic_type\": \"\",\n        \"description\": \"\"\n      }\n    },\n    {\n      \"column\": \"Thalium\",\n      \"properties\": {\n        \"dtype\": \"number\",\n        \"std\": 1.0016597521794575,\n        \"min\": -3.7819160831094725,\n        \"max\": 1.1199665653843502,\n        \"num_unique_values\": 4,\n        \"samples\": [\n          -0.5139943174469239,\n          -3.7819160831094725\n        ],\n        \"semantic_type\": \"\",\n        \"description\": \"\"\n      }\n    }\n  ]\n}",
       "type": "dataframe",
       "variable_name": "X"
      },
      "text/html": [
       "\n",
       "  <div id=\"df-4e1ae45c-6d0e-48c2-91a4-a89ff723b468\" class=\"colab-df-container\">\n",
       "    <div>\n",
       "<style scoped>\n",
       "    .dataframe tbody tr th:only-of-type {\n",
       "        vertical-align: middle;\n",
       "    }\n",
       "\n",
       "    .dataframe tbody tr th {\n",
       "        vertical-align: top;\n",
       "    }\n",
       "\n",
       "    .dataframe thead th {\n",
       "        text-align: right;\n",
       "    }\n",
       "</style>\n",
       "<table border=\"1\" class=\"dataframe\">\n",
       "  <thead>\n",
       "    <tr style=\"text-align: right;\">\n",
       "      <th></th>\n",
       "      <th>Age</th>\n",
       "      <th>Sex</th>\n",
       "      <th>ChestPain</th>\n",
       "      <th>RestingBloodPressure</th>\n",
       "      <th>Cholesterol</th>\n",
       "      <th>FastingBloodSugar</th>\n",
       "      <th>RestingECG</th>\n",
       "      <th>MaxHeartRate</th>\n",
       "      <th>ExcerciseAngina</th>\n",
       "      <th>OldPeak</th>\n",
       "      <th>STSlope</th>\n",
       "      <th>nMajorVessels</th>\n",
       "      <th>Thalium</th>\n",
       "    </tr>\n",
       "  </thead>\n",
       "  <tbody>\n",
       "    <tr>\n",
       "      <th>0</th>\n",
       "      <td>0.949794</td>\n",
       "      <td>0.682656</td>\n",
       "      <td>1.976470</td>\n",
       "      <td>0.764066</td>\n",
       "      <td>-0.261285</td>\n",
       "      <td>2.389793</td>\n",
       "      <td>-1.002541</td>\n",
       "      <td>0.018826</td>\n",
       "      <td>-0.698344</td>\n",
       "      <td>1.084022</td>\n",
       "      <td>-2.271182</td>\n",
       "      <td>-0.714911</td>\n",
       "      <td>-2.147955</td>\n",
       "    </tr>\n",
       "    <tr>\n",
       "      <th>1</th>\n",
       "      <td>-1.928548</td>\n",
       "      <td>0.682656</td>\n",
       "      <td>1.005911</td>\n",
       "      <td>-0.091401</td>\n",
       "      <td>0.067741</td>\n",
       "      <td>-0.418446</td>\n",
       "      <td>0.901657</td>\n",
       "      <td>1.636979</td>\n",
       "      <td>-0.698344</td>\n",
       "      <td>2.118926</td>\n",
       "      <td>-2.271182</td>\n",
       "      <td>-0.714911</td>\n",
       "      <td>-0.513994</td>\n",
       "    </tr>\n",
       "    <tr>\n",
       "      <th>2</th>\n",
       "      <td>-1.485726</td>\n",
       "      <td>-1.464866</td>\n",
       "      <td>0.035352</td>\n",
       "      <td>-0.091401</td>\n",
       "      <td>-0.822564</td>\n",
       "      <td>-0.418446</td>\n",
       "      <td>-1.002541</td>\n",
       "      <td>0.980971</td>\n",
       "      <td>-0.698344</td>\n",
       "      <td>0.307844</td>\n",
       "      <td>0.979514</td>\n",
       "      <td>-0.714911</td>\n",
       "      <td>-0.513994</td>\n",
       "    </tr>\n",
       "    <tr>\n",
       "      <th>3</th>\n",
       "      <td>0.174856</td>\n",
       "      <td>0.682656</td>\n",
       "      <td>0.035352</td>\n",
       "      <td>-0.661712</td>\n",
       "      <td>-0.203222</td>\n",
       "      <td>-0.418446</td>\n",
       "      <td>0.901657</td>\n",
       "      <td>1.243374</td>\n",
       "      <td>-0.698344</td>\n",
       "      <td>-0.209608</td>\n",
       "      <td>0.979514</td>\n",
       "      <td>-0.714911</td>\n",
       "      <td>-0.513994</td>\n",
       "    </tr>\n",
       "    <tr>\n",
       "      <th>4</th>\n",
       "      <td>0.285561</td>\n",
       "      <td>-1.464866</td>\n",
       "      <td>-0.935208</td>\n",
       "      <td>-0.661712</td>\n",
       "      <td>2.080602</td>\n",
       "      <td>-0.418446</td>\n",
       "      <td>0.901657</td>\n",
       "      <td>0.587366</td>\n",
       "      <td>1.431958</td>\n",
       "      <td>-0.382092</td>\n",
       "      <td>0.979514</td>\n",
       "      <td>-0.714911</td>\n",
       "      <td>-0.513994</td>\n",
       "    </tr>\n",
       "  </tbody>\n",
       "</table>\n",
       "</div>\n",
       "    <div class=\"colab-df-buttons\">\n",
       "\n",
       "  <div class=\"colab-df-container\">\n",
       "    <button class=\"colab-df-convert\" onclick=\"convertToInteractive('df-4e1ae45c-6d0e-48c2-91a4-a89ff723b468')\"\n",
       "            title=\"Convert this dataframe to an interactive table.\"\n",
       "            style=\"display:none;\">\n",
       "\n",
       "  <svg xmlns=\"http://www.w3.org/2000/svg\" height=\"24px\" viewBox=\"0 -960 960 960\">\n",
       "    <path d=\"M120-120v-720h720v720H120Zm60-500h600v-160H180v160Zm220 220h160v-160H400v160Zm0 220h160v-160H400v160ZM180-400h160v-160H180v160Zm440 0h160v-160H620v160ZM180-180h160v-160H180v160Zm440 0h160v-160H620v160Z\"/>\n",
       "  </svg>\n",
       "    </button>\n",
       "\n",
       "  <style>\n",
       "    .colab-df-container {\n",
       "      display:flex;\n",
       "      gap: 12px;\n",
       "    }\n",
       "\n",
       "    .colab-df-convert {\n",
       "      background-color: #E8F0FE;\n",
       "      border: none;\n",
       "      border-radius: 50%;\n",
       "      cursor: pointer;\n",
       "      display: none;\n",
       "      fill: #1967D2;\n",
       "      height: 32px;\n",
       "      padding: 0 0 0 0;\n",
       "      width: 32px;\n",
       "    }\n",
       "\n",
       "    .colab-df-convert:hover {\n",
       "      background-color: #E2EBFA;\n",
       "      box-shadow: 0px 1px 2px rgba(60, 64, 67, 0.3), 0px 1px 3px 1px rgba(60, 64, 67, 0.15);\n",
       "      fill: #174EA6;\n",
       "    }\n",
       "\n",
       "    .colab-df-buttons div {\n",
       "      margin-bottom: 4px;\n",
       "    }\n",
       "\n",
       "    [theme=dark] .colab-df-convert {\n",
       "      background-color: #3B4455;\n",
       "      fill: #D2E3FC;\n",
       "    }\n",
       "\n",
       "    [theme=dark] .colab-df-convert:hover {\n",
       "      background-color: #434B5C;\n",
       "      box-shadow: 0px 1px 3px 1px rgba(0, 0, 0, 0.15);\n",
       "      filter: drop-shadow(0px 1px 2px rgba(0, 0, 0, 0.3));\n",
       "      fill: #FFFFFF;\n",
       "    }\n",
       "  </style>\n",
       "\n",
       "    <script>\n",
       "      const buttonEl =\n",
       "        document.querySelector('#df-4e1ae45c-6d0e-48c2-91a4-a89ff723b468 button.colab-df-convert');\n",
       "      buttonEl.style.display =\n",
       "        google.colab.kernel.accessAllowed ? 'block' : 'none';\n",
       "\n",
       "      async function convertToInteractive(key) {\n",
       "        const element = document.querySelector('#df-4e1ae45c-6d0e-48c2-91a4-a89ff723b468');\n",
       "        const dataTable =\n",
       "          await google.colab.kernel.invokeFunction('convertToInteractive',\n",
       "                                                    [key], {});\n",
       "        if (!dataTable) return;\n",
       "\n",
       "        const docLinkHtml = 'Like what you see? Visit the ' +\n",
       "          '<a target=\"_blank\" href=https://colab.research.google.com/notebooks/data_table.ipynb>data table notebook</a>'\n",
       "          + ' to learn more about interactive tables.';\n",
       "        element.innerHTML = '';\n",
       "        dataTable['output_type'] = 'display_data';\n",
       "        await google.colab.output.renderOutput(dataTable, element);\n",
       "        const docLink = document.createElement('div');\n",
       "        docLink.innerHTML = docLinkHtml;\n",
       "        element.appendChild(docLink);\n",
       "      }\n",
       "    </script>\n",
       "  </div>\n",
       "\n",
       "\n",
       "<div id=\"df-baeb95fb-4368-4097-a398-9c1124742da3\">\n",
       "  <button class=\"colab-df-quickchart\" onclick=\"quickchart('df-baeb95fb-4368-4097-a398-9c1124742da3')\"\n",
       "            title=\"Suggest charts\"\n",
       "            style=\"display:none;\">\n",
       "\n",
       "<svg xmlns=\"http://www.w3.org/2000/svg\" height=\"24px\"viewBox=\"0 0 24 24\"\n",
       "     width=\"24px\">\n",
       "    <g>\n",
       "        <path d=\"M19 3H5c-1.1 0-2 .9-2 2v14c0 1.1.9 2 2 2h14c1.1 0 2-.9 2-2V5c0-1.1-.9-2-2-2zM9 17H7v-7h2v7zm4 0h-2V7h2v10zm4 0h-2v-4h2v4z\"/>\n",
       "    </g>\n",
       "</svg>\n",
       "  </button>\n",
       "\n",
       "<style>\n",
       "  .colab-df-quickchart {\n",
       "      --bg-color: #E8F0FE;\n",
       "      --fill-color: #1967D2;\n",
       "      --hover-bg-color: #E2EBFA;\n",
       "      --hover-fill-color: #174EA6;\n",
       "      --disabled-fill-color: #AAA;\n",
       "      --disabled-bg-color: #DDD;\n",
       "  }\n",
       "\n",
       "  [theme=dark] .colab-df-quickchart {\n",
       "      --bg-color: #3B4455;\n",
       "      --fill-color: #D2E3FC;\n",
       "      --hover-bg-color: #434B5C;\n",
       "      --hover-fill-color: #FFFFFF;\n",
       "      --disabled-bg-color: #3B4455;\n",
       "      --disabled-fill-color: #666;\n",
       "  }\n",
       "\n",
       "  .colab-df-quickchart {\n",
       "    background-color: var(--bg-color);\n",
       "    border: none;\n",
       "    border-radius: 50%;\n",
       "    cursor: pointer;\n",
       "    display: none;\n",
       "    fill: var(--fill-color);\n",
       "    height: 32px;\n",
       "    padding: 0;\n",
       "    width: 32px;\n",
       "  }\n",
       "\n",
       "  .colab-df-quickchart:hover {\n",
       "    background-color: var(--hover-bg-color);\n",
       "    box-shadow: 0 1px 2px rgba(60, 64, 67, 0.3), 0 1px 3px 1px rgba(60, 64, 67, 0.15);\n",
       "    fill: var(--button-hover-fill-color);\n",
       "  }\n",
       "\n",
       "  .colab-df-quickchart-complete:disabled,\n",
       "  .colab-df-quickchart-complete:disabled:hover {\n",
       "    background-color: var(--disabled-bg-color);\n",
       "    fill: var(--disabled-fill-color);\n",
       "    box-shadow: none;\n",
       "  }\n",
       "\n",
       "  .colab-df-spinner {\n",
       "    border: 2px solid var(--fill-color);\n",
       "    border-color: transparent;\n",
       "    border-bottom-color: var(--fill-color);\n",
       "    animation:\n",
       "      spin 1s steps(1) infinite;\n",
       "  }\n",
       "\n",
       "  @keyframes spin {\n",
       "    0% {\n",
       "      border-color: transparent;\n",
       "      border-bottom-color: var(--fill-color);\n",
       "      border-left-color: var(--fill-color);\n",
       "    }\n",
       "    20% {\n",
       "      border-color: transparent;\n",
       "      border-left-color: var(--fill-color);\n",
       "      border-top-color: var(--fill-color);\n",
       "    }\n",
       "    30% {\n",
       "      border-color: transparent;\n",
       "      border-left-color: var(--fill-color);\n",
       "      border-top-color: var(--fill-color);\n",
       "      border-right-color: var(--fill-color);\n",
       "    }\n",
       "    40% {\n",
       "      border-color: transparent;\n",
       "      border-right-color: var(--fill-color);\n",
       "      border-top-color: var(--fill-color);\n",
       "    }\n",
       "    60% {\n",
       "      border-color: transparent;\n",
       "      border-right-color: var(--fill-color);\n",
       "    }\n",
       "    80% {\n",
       "      border-color: transparent;\n",
       "      border-right-color: var(--fill-color);\n",
       "      border-bottom-color: var(--fill-color);\n",
       "    }\n",
       "    90% {\n",
       "      border-color: transparent;\n",
       "      border-bottom-color: var(--fill-color);\n",
       "    }\n",
       "  }\n",
       "</style>\n",
       "\n",
       "  <script>\n",
       "    async function quickchart(key) {\n",
       "      const quickchartButtonEl =\n",
       "        document.querySelector('#' + key + ' button');\n",
       "      quickchartButtonEl.disabled = true;  // To prevent multiple clicks.\n",
       "      quickchartButtonEl.classList.add('colab-df-spinner');\n",
       "      try {\n",
       "        const charts = await google.colab.kernel.invokeFunction(\n",
       "            'suggestCharts', [key], {});\n",
       "      } catch (error) {\n",
       "        console.error('Error during call to suggestCharts:', error);\n",
       "      }\n",
       "      quickchartButtonEl.classList.remove('colab-df-spinner');\n",
       "      quickchartButtonEl.classList.add('colab-df-quickchart-complete');\n",
       "    }\n",
       "    (() => {\n",
       "      let quickchartButtonEl =\n",
       "        document.querySelector('#df-baeb95fb-4368-4097-a398-9c1124742da3 button');\n",
       "      quickchartButtonEl.style.display =\n",
       "        google.colab.kernel.accessAllowed ? 'block' : 'none';\n",
       "    })();\n",
       "  </script>\n",
       "</div>\n",
       "\n",
       "    </div>\n",
       "  </div>\n"
      ],
      "text/plain": [
       "        Age       Sex  ChestPain  RestingBloodPressure  Cholesterol  \\\n",
       "0  0.949794  0.682656   1.976470              0.764066    -0.261285   \n",
       "1 -1.928548  0.682656   1.005911             -0.091401     0.067741   \n",
       "2 -1.485726 -1.464866   0.035352             -0.091401    -0.822564   \n",
       "3  0.174856  0.682656   0.035352             -0.661712    -0.203222   \n",
       "4  0.285561 -1.464866  -0.935208             -0.661712     2.080602   \n",
       "\n",
       "   FastingBloodSugar  RestingECG  MaxHeartRate  ExcerciseAngina   OldPeak  \\\n",
       "0           2.389793   -1.002541      0.018826        -0.698344  1.084022   \n",
       "1          -0.418446    0.901657      1.636979        -0.698344  2.118926   \n",
       "2          -0.418446   -1.002541      0.980971        -0.698344  0.307844   \n",
       "3          -0.418446    0.901657      1.243374        -0.698344 -0.209608   \n",
       "4          -0.418446    0.901657      0.587366         1.431958 -0.382092   \n",
       "\n",
       "    STSlope  nMajorVessels   Thalium  \n",
       "0 -2.271182      -0.714911 -2.147955  \n",
       "1 -2.271182      -0.714911 -0.513994  \n",
       "2  0.979514      -0.714911 -0.513994  \n",
       "3  0.979514      -0.714911 -0.513994  \n",
       "4  0.979514      -0.714911 -0.513994  "
      ]
     },
     "execution_count": 17,
     "metadata": {},
     "output_type": "execute_result"
    }
   ],
   "source": [
    "from sklearn.preprocessing import StandardScaler\n",
    "X = df.drop([\"Status\"], axis=1)\n",
    "y = df[\"Status\"]\n",
    "col = list(df.columns.drop(\"Status\"))\n",
    "sc = StandardScaler()\n",
    "X[col] = sc.fit_transform(X[col])\n",
    "X.head()"
   ]
  },
  {
   "cell_type": "markdown",
   "metadata": {
    "id": "mUJc-pt6BW0t"
   },
   "source": [
    "<p style=\"text-align:center;\">\n",
    "    <font face=\"Georgia\" size=5 color=\"green\"><b> 1_2 . Modeling\n",
    "</b></font>\n",
    "</p>"
   ]
  },
  {
   "cell_type": "markdown",
   "metadata": {
    "id": "-gI0p5YBBoYW"
   },
   "source": [
    "<p style=\"text-align:center;\">\n",
    "    <font face=\"Georgia\" size=5 color=\"green\"><b> Splitting\n",
    "</b></font>\n",
    "</p>"
   ]
  },
  {
   "cell_type": "code",
   "execution_count": 19,
   "metadata": {
    "id": "NaGP0kbR_fMX"
   },
   "outputs": [],
   "source": [
    "from sklearn.model_selection import train_test_split,GridSearchCV, cross_val_score\n",
    "X_train, X_test, y_train, y_test = train_test_split(X, y, test_size=0.2, random_state= 42, shuffle= True)"
   ]
  },
  {
   "cell_type": "markdown",
   "metadata": {
    "id": "J0Km-_bCB7fF"
   },
   "source": [
    "<p style=\"text-align:center;\">\n",
    "    <font face=\"Georgia\" size=5 color=\"green\"><b> Models Making\n",
    "</b></font>\n",
    "</p>"
   ]
  },
  {
   "cell_type": "code",
   "execution_count": 20,
   "metadata": {
    "id": "f9BR2xgECHNm"
   },
   "outputs": [],
   "source": [
    "from sklearn.model_selection import train_test_split\n",
    "from sklearn.metrics import accuracy_score, classification_report, confusion_matrix\n",
    "from sklearn.neighbors import KNeighborsClassifier\n",
    "from sklearn.linear_model import LogisticRegression\n",
    "from sklearn.svm import SVC\n",
    "from sklearn.ensemble import RandomForestClassifier\n",
    "from sklearn.model_selection import cross_val_score\n",
    "from sklearn.tree import DecisionTreeClassifier\n",
    "import pickle"
   ]
  },
  {
   "cell_type": "code",
   "execution_count": 21,
   "metadata": {
    "colab": {
     "base_uri": "https://localhost:8080/"
    },
    "id": "xGDiaqdtCOam",
    "outputId": "0de125b4-4efb-484c-a954-70b1c4893e0d"
   },
   "outputs": [
    {
     "name": "stdout",
     "output_type": "stream",
     "text": [
      "Results for KNN:\n",
      "Accuracy: 0.9180327868852459\n",
      "Cross-Validation Score: 0.8210928961748636\n",
      "Classification Report:\n",
      "              precision    recall  f1-score   support\n",
      "\n",
      "           0       0.88      0.97      0.92        29\n",
      "           1       0.97      0.88      0.92        32\n",
      "\n",
      "    accuracy                           0.92        61\n",
      "   macro avg       0.92      0.92      0.92        61\n",
      "weighted avg       0.92      0.92      0.92        61\n",
      "\n",
      "Confusion Matrix:\n",
      "[[28  1]\n",
      " [ 4 28]]\n",
      "--------------------------------------------------\n",
      "Results for Logistic Regression:\n",
      "Accuracy: 0.819672131147541\n",
      "Cross-Validation Score: 0.8343169398907104\n",
      "Classification Report:\n",
      "              precision    recall  f1-score   support\n",
      "\n",
      "           0       0.80      0.83      0.81        29\n",
      "           1       0.84      0.81      0.83        32\n",
      "\n",
      "    accuracy                           0.82        61\n",
      "   macro avg       0.82      0.82      0.82        61\n",
      "weighted avg       0.82      0.82      0.82        61\n",
      "\n",
      "Confusion Matrix:\n",
      "[[24  5]\n",
      " [ 6 26]]\n",
      "--------------------------------------------------\n",
      "Results for SVM:\n",
      "Accuracy: 0.819672131147541\n",
      "Cross-Validation Score: 0.8376502732240437\n",
      "Classification Report:\n",
      "              precision    recall  f1-score   support\n",
      "\n",
      "           0       0.80      0.83      0.81        29\n",
      "           1       0.84      0.81      0.83        32\n",
      "\n",
      "    accuracy                           0.82        61\n",
      "   macro avg       0.82      0.82      0.82        61\n",
      "weighted avg       0.82      0.82      0.82        61\n",
      "\n",
      "Confusion Matrix:\n",
      "[[24  5]\n",
      " [ 6 26]]\n",
      "--------------------------------------------------\n",
      "Results for Random Forest:\n",
      "Accuracy: 0.8524590163934426\n",
      "Cross-Validation Score: 0.8044262295081968\n",
      "Classification Report:\n",
      "              precision    recall  f1-score   support\n",
      "\n",
      "           0       0.81      0.90      0.85        29\n",
      "           1       0.90      0.81      0.85        32\n",
      "\n",
      "    accuracy                           0.85        61\n",
      "   macro avg       0.85      0.85      0.85        61\n",
      "weighted avg       0.86      0.85      0.85        61\n",
      "\n",
      "Confusion Matrix:\n",
      "[[26  3]\n",
      " [ 6 26]]\n",
      "--------------------------------------------------\n",
      "Results for Decision Tree:\n",
      "Accuracy: 0.7868852459016393\n",
      "Cross-Validation Score: 0.7414754098360656\n",
      "Classification Report:\n",
      "              precision    recall  f1-score   support\n",
      "\n",
      "           0       0.74      0.86      0.79        29\n",
      "           1       0.85      0.72      0.78        32\n",
      "\n",
      "    accuracy                           0.79        61\n",
      "   macro avg       0.79      0.79      0.79        61\n",
      "weighted avg       0.80      0.79      0.79        61\n",
      "\n",
      "Confusion Matrix:\n",
      "[[25  4]\n",
      " [ 9 23]]\n",
      "--------------------------------------------------\n"
     ]
    }
   ],
   "source": [
    "models = {\n",
    "    'KNN': KNeighborsClassifier(n_neighbors=5, metric='euclidean'),\n",
    "    'Logistic Regression': LogisticRegression(),\n",
    "    'SVM': SVC(kernel='linear'),\n",
    "    'Random Forest': RandomForestClassifier(n_estimators=100),\n",
    "    'Decision Tree': DecisionTreeClassifier()\n",
    "}\n",
    "\n",
    "\n",
    "results = {}\n",
    "for model_name, model in models.items():\n",
    "\n",
    "    model.fit(X_train, y_train)\n",
    "    y_pred = model.predict(X_test)\n",
    "\n",
    "\n",
    "    accuracy = accuracy_score(y_test, y_pred)\n",
    "    classification_rep = classification_report(y_test, y_pred)\n",
    "    confusion_mat = confusion_matrix(y_test, y_pred)\n",
    "    cross_val = cross_val_score(model, X, y, cv=5).mean()\n",
    "\n",
    "\n",
    "    results[model_name] = {\n",
    "        'Accuracy': accuracy,\n",
    "        'Classification Report': classification_rep,\n",
    "        'Confusion Matrix': confusion_mat,\n",
    "        'Cross-Validation Score': cross_val\n",
    "    }\n",
    "\n",
    "\n",
    "    print(f\"Results for {model_name}:\")\n",
    "    print(f\"Accuracy: {accuracy}\")\n",
    "    print(f\"Cross-Validation Score: {cross_val}\")\n",
    "    print(f\"Classification Report:\\n{classification_rep}\")\n",
    "    print(f\"Confusion Matrix:\\n{confusion_mat}\")\n",
    "    print(\"-\" * 50)"
   ]
  },
  {
   "cell_type": "code",
   "execution_count": 22,
   "metadata": {
    "colab": {
     "base_uri": "https://localhost:8080/"
    },
    "id": "gji01mvADzqo",
    "outputId": "360d1f19-2e62-4ce1-e3b6-4d23367b9869"
   },
   "outputs": [
    {
     "name": "stdout",
     "output_type": "stream",
     "text": [
      "Cross-Validation Scores:\n",
      "KNN: 0.8303\n",
      "Logistic Regression: 0.8466\n",
      "SVM: 0.8465\n",
      "Random Forest: 0.8258\n",
      "Decision Tree: 0.7758\n",
      "\n",
      "Test Set Accuracies:\n",
      "KNN: 0.9180\n",
      "Logistic Regression: 0.8197\n",
      "SVM: 0.8197\n",
      "Random Forest: 0.8852\n",
      "Decision Tree: 0.7869\n"
     ]
    }
   ],
   "source": [
    "cv_scores = {}\n",
    "test_accuracies = {}\n",
    "\n",
    "for model_name, model in models.items():\n",
    "\n",
    "    cv_score = cross_val_score(model, X_train, y_train, cv=5).mean()\n",
    "\n",
    "    model.fit(X_train, y_train)\n",
    "\n",
    "    y_pred = model.predict(X_test)\n",
    "\n",
    "\n",
    "    accuracy = accuracy_score(y_test, y_pred)\n",
    "\n",
    "    cv_scores[model_name] = cv_score\n",
    "    test_accuracies[model_name] = accuracy\n",
    "\n",
    "print(\"Cross-Validation Scores:\")\n",
    "for model_name, score in cv_scores.items():\n",
    "    print(f\"{model_name}: {score:.4f}\")\n",
    "\n",
    "print(\"\\nTest Set Accuracies:\")\n",
    "for model_name, accuracy in test_accuracies.items():\n",
    "    print(f\"{model_name}: {accuracy:.4f}\")"
   ]
  },
  {
   "cell_type": "markdown",
   "metadata": {
    "id": "W9rhV5ZJEAqa"
   },
   "source": [
    "<p style=\"text-align:center;\">\n",
    "    <font face=\"Georgia\" size=5 color=\"green\"><b>Evaluation Results</b></font>\n",
    "</p>"
   ]
  },
  {
   "cell_type": "code",
   "execution_count": 23,
   "metadata": {
    "colab": {
     "base_uri": "https://localhost:8080/",
     "height": 364
    },
    "id": "6t_ZDx-aFYRx",
    "outputId": "b3b3ea29-0656-4809-9987-324568b641c5"
   },
   "outputs": [
    {
     "data": {
      "image/png": "[encoded data removed]",
      "text/plain": [
       "<IPython.core.display.Image object>"
      ]
     },
     "execution_count": 23,
     "metadata": {},
     "output_type": "execute_result"
    }
   ],
   "source": [
    "from IPython.display import Image\n",
    "Image(filename='/content/1.png')\n"
   ]
  },
  {
   "cell_type": "markdown",
   "metadata": {
    "id": "IrGdbB3yGAfi"
   },
   "source": [
    "1.\tKNN:     \n",
    "\n",
    "    o\tAccuracy: 91.80%\n",
    "\n",
    "    o\tCross-Validation Score: 83.03%\n",
    "     \n",
    "    o\tThe model performed very well on test data with high accuracy, but its cross-validation score was slightly lower than the other models.\n"
   ]
  },
  {
   "cell_type": "markdown",
   "metadata": {
    "id": "cO-O04HBGWu_"
   },
   "source": [
    "2.\tLogistic Regression:\n",
    "\n",
    "    o\tAccuracy: 81.97%\n",
    "\n",
    "    o\tCross-Validation Score: 84.66%\n",
    "    \n",
    "    o\tThis model performed very well in Cross-Validation, indicating high stability with new data.\n"
   ]
  },
  {
   "cell_type": "markdown",
   "metadata": {
    "id": "7284qTehGkIt"
   },
   "source": [
    "3.\tSVM:\n",
    "\n",
    "  o\tSimilar to Logistic Regression, SVM also showed good performance and stability, making it suitable for production deployment.\n"
   ]
  },
  {
   "cell_type": "markdown",
   "metadata": {
    "id": "pwN5-YaLGkMC"
   },
   "source": [
    "4.\tRandom Forest:\n",
    "\n",
    "  o\tAccuracy: 86.88%\n",
    "\n",
    "  o\tCross-Validation Score: 82.99%\n",
    "  \n",
    "  o\tThis model performed well, but its cross-validation score was slightly lower than KNN and Logistic Regression.\n"
   ]
  },
  {
   "cell_type": "markdown",
   "metadata": {
    "id": "SYm0ICuGG_M4"
   },
   "source": [
    "5.\tDecision Tree:\n",
    "\n",
    "  o\tAccuracy: 78.69%\n",
    "\n",
    "  o\tCross-Validation Score: 77.58%\n",
    "  \n",
    "  o\tThis model showed the lowest performance in all evaluations and was therefore excluded from the model selection process for production.\n"
   ]
  },
  {
   "cell_type": "markdown",
   "metadata": {
    "id": "WmZYi9ltHZB1"
   },
   "source": [
    "\n",
    "<p style=\"text-align:center;\">\n",
    "    <font face=\"Georgia\" size=5 color=\"green\"><b>2. Model Selection Criteria for Production</b></font>\n",
    "</p>"
   ]
  },
  {
   "cell_type": "markdown",
   "metadata": {
    "id": "LGXjXS3LH-Bz"
   },
   "source": [
    "Before promoting any model to production, it is necessary to evaluate the models against specific criteria. These criteria include:\n",
    "\n",
    "•\tAccuracy: Models must achieve an accuracy of at least 80% on test data and cross-validation.\n",
    "\n",
    "•\tModel Stability: The model should perform consistently across different conditions (test and production data).\n",
    "\n",
    "•\tCross-Validation Performance: Models should have a cross-validation score above 80% in cross-validation evaluations.\n",
    "\n",
    "•\tAdvanced Testing Performance: The model should perform well in additional tests such as A/B Testing and Hyperparameter Tuning."
   ]
  },
  {
   "cell_type": "markdown",
   "metadata": {
    "id": "ppBMa-d4IJUJ"
   },
   "source": [
    "\n",
    "<p style=\"text-align:center;\">\n",
    "    <font face=\"Georgia\" size=5 color=\"green\"><b>3. Selected Models for Production</b></font>\n",
    "</p>"
   ]
  },
  {
   "cell_type": "markdown",
   "metadata": {
    "id": "SQrXASo-ImPR"
   },
   "source": [
    "Based on the evaluation results, the following models are selected for production deployment:\n",
    "1.\tKNN:\n",
    "\tAccuracy above 90% on test data and strong performance in most metrics, this model was selected as one of the top models for deployment."
   ]
  },
  {
   "cell_type": "markdown",
   "metadata": {
    "id": "gYYb48lkomxn"
   },
   "source": [
    "\n",
    "<p style=\"text-align:center;\">\n",
    "    <font face=\"Georgia\" size=5 color=\"green\"><b>Save Model</b></font>\n",
    "</p>"
   ]
  },
  {
   "cell_type": "code",
   "execution_count": null,
   "metadata": {
    "id": "LCXil2THpmfs"
   },
   "outputs": [],
   "source": [
    "import pickle\n",
    "with open('model.pkl', 'rb') as file:\n",
    "    loaded_model = pickle.load(file)"
   ]
  },
  {
   "cell_type": "markdown",
   "metadata": {
    "id": "QdcvEgfWIy7F"
   },
   "source": [
    "\n",
    "<p style=\"text-align:center;\">\n",
    "    <font face=\"Georgia\" size=5 color=\"green\"><b>4.Process for Promoting Models to Production</b></font>\n",
    "</p>"
   ]
  },
  {
   "cell_type": "markdown",
   "metadata": {
    "id": "PLZN5mvAKzSs"
   },
   "source": [
    "\n",
    "<p style=\"text-align:center;\">\n",
    "    <font face=\"Georgia\" size=5 color=\"green\"><b>Model Preparation for New Data</b></font>\n",
    "</p>"
   ]
  },
  {
   "cell_type": "code",
   "execution_count": null,
   "metadata": {
    "id": "fPYWyz-UKonB"
   },
   "outputs": [],
   "source": [
    "if __name__ == '__main__':\n",
    "\n",
    "    Age = int(input(\"Please Enter Your Age:\\n\"))\n",
    "    Sex = str(input(\"Are you Male or Female [Male, Female]:\\n\"))\n",
    "    Chest_Pain = str(input(\"Please Enter The Type of Your Chest Pain [Typical angina, Atypical angina, Non-anginal pain, Asymptomatic]:\\n\"))\n",
    "    Trestbps = int(input(\"Please Enter Resting Blood Pressure(resting blood pressure (in mm Hg on admission to the hospital)) [0, 200]:\\n\"))\n",
    "    Chol = int(input(\"Please Enter Cholesterol Measure [0, 603]:\\n\"))\n",
    "    Fbs = str(input(\"Is Fasting Blood Sugar > 120 mg/dl? [True, False]:\\n\"))\n",
    "    Restecg = str(input(\"Please Enter Resting Electrocardiographic Results [Normal, Abnormality, Hypertrophy]:\\n\"))\n",
    "    Thalach = int(input(\"Please Enter your maximum heart rate [60, 202]:\\n\"))\n",
    "    Exang = str(input(\"Is there exist exercise-include angina? [No, Yes]:\\n\"))\n",
    "    Oldpeak = float(input(\"Please Enter ST depression induced by exercise relative to rest [-2.6, 6.2]:\\n\"))\n",
    "    Slope = str(input(\"Please Enter  the slope of the peak exercise ST segment [Upsloping, Flat, Downsloping]:\\n\"))\n",
    "    Ca = int(input(\"Please Enter the number of major vessels (0-4) colored by fluoroscopy:\\n\"))\n",
    "    Thal = str(input(\"Please Enter Patient's Thal level [Normal, Fixed defect, Reversible defect, Not described]:\\n\"))\n",
    "    features = []\n",
    "    # adding age\n",
    "    features.append(Age)\n",
    "    # adding sex\n",
    "    if Sex == \"Female\":\n",
    "        features.append(0)\n",
    "    elif Sex == \"Male\":\n",
    "        features.append(1)\n",
    "    # adding chest pain type\n",
    "    if Chest_Pain == \"Typical angina\":\n",
    "        features.append(0)\n",
    "    elif Chest_Pain == \"Atypical angina\":\n",
    "        features.append(1)\n",
    "    elif Chest_Pain == \"Non-anginal pain\":\n",
    "        features.append(2)\n",
    "    elif Chest_Pain == \"Asymptomatic\":\n",
    "        features.append(3)\n",
    "    # adding Resting Blood Pressure\n",
    "    features.append(Trestbps)\n",
    "    features.append(Chol)\n",
    "    if Fbs == \"True\":\n",
    "        features.append(1)\n",
    "    elif Fbs == \"False\":\n",
    "        features.append(0)\n",
    "    if Restecg == \"Normal\":\n",
    "        features.append(0)\n",
    "    elif Restecg == \"Abnormality\":\n",
    "        features.append(1)\n",
    "    elif Restecg == \"Hypertrophy\":\n",
    "        features.append(2)\n",
    "    features.append(Thalach)\n",
    "    if Exang == \"No\":\n",
    "        features.append(0)\n",
    "    elif Exang == \"Yes\":\n",
    "        features.append(1)\n",
    "    features.append(Oldpeak)\n",
    "    if Slope == \"Upsloping\":\n",
    "        features.append(0)\n",
    "    elif Slope == \"Flat\":\n",
    "        features.append(1)\n",
    "    elif Slope == \"Downsloping\":\n",
    "        features.append(2)\n",
    "    features.append(Ca)\n",
    "    if Thal == \"Normal\":\n",
    "        features.append(0)\n",
    "    elif Thal == \"Fixed defect\":\n",
    "        features.append(1)\n",
    "    elif Thal == \"Reversible defect\":\n",
    "        features.append(2)\n",
    "    elif Thal == \"Not described\":\n",
    "        features.append(3)"
   ]
  },
  {
   "cell_type": "markdown",
   "metadata": {
    "id": "_z64pCl8KUY4"
   },
   "source": [
    "    \n",
    "    # Example\n",
    "    #  sample 1:\n",
    "    # 63, Male, Asymptomatic, 145, 233, True, Normal, 150, No, 2.3, Upsloping, 0, Fixed defect\n",
    "    # features = [63, 1, 3, 145, 233, 1, 0, 150, 0, 2.3, 0, 0, 1] #target=1 false\n",
    "    # sample 2\n",
    "    # 69, Female, Asymptomatic, 140, 239, False, Abnormality, 151, No, 1.8, Downsloping, 2, Reversible defect\n",
    "    # features = [69, 0, 3, 140, 239, 0, 1, 151, 0, 1.8, 2, 2, 2] # target=1 false\n",
    "    # sample 3\n",
    "    # 37, Male, Non-anginal pain, 130, 250, False, Abnormality, 187, No, 3.5, Upsloping, 0, Reversible defect\n",
    "    # features = [37, 1, 2, 130, 250, 0, 1, 187, 0, 3.5, 0, 0, 2] # target=1 false\n",
    "    # sample 4\n",
    "    # 41, Female, Atypical angina, 130, 204, False, Normal, 172, No, 1.4, Downsloping, 0, Reversible defect\n",
    "    # features = [41, 0, 1, 130, 204, 0, 0, 172, 0, 1.4, 2, 0, 2] # target=1 true\n"
   ]
  },
  {
   "cell_type": "markdown",
   "metadata": {
    "id": "cEyGveBA_6Dc"
   },
   "source": [
    "\n",
    "<p style=\"text-align:center;\">\n",
    "    <font face=\"Georgia\" size=5 color=\"green\"><b> Test Model Versions</b></font>\n",
    "</p>"
   ]
  },
  {
   "cell_type": "markdown",
   "metadata": {},
   "source": [
    "# Model Lifecycle\n",
    "\n",
    "This document describes the lifecycle of models in the heart disease prediction project.\n",
    "\n",
    "## 1. Model Lifecycle Stages\n",
    "\n",
    "### 1.1 Staging Models\n",
    "**Purpose:** Models in this stage are being tested in a controlled environment to validate performance.\n",
    "\n",
    "**Criteria for Staging:**\n",
    "- Models must meet or exceed baseline performance in key metrics.\n",
    "- The training and evaluation process must be reproducible.\n",
    "- All associated artifacts (e.g., parameters, metrics, plots) must be logged in MLflow.\n",
    "\n",
    "**Example Staging Models (Accuracy between 85% and 90%):**\n",
    "- Run ID: bec4c319b8b341318595d3c89ac5adb0 (Accuracy: 85.25%)\n",
    "- Run ID: e500a064950940a99af5b387566056eb (Accuracy: 85.25%)\n",
    "- Run ID: 47052ece17744fcbaf0bf5010244a6b0 (Accuracy: 85.25%)\n",
    "- Run ID: 6526ca246f7246bfb8d9f54ee3988e13 (Accuracy: 85.25%)\n",
    "- Run ID: 3dae0fafb3a043f78c5811d0df1a6bec (Accuracy: 86.89%)\n",
    "- Run ID: aa6efb2f6a9e4d15821973b4be0cb8a8 (Accuracy: 86.89%)\n",
    "- Run ID: fdb68edf0fb44476ba5c9f4fff8ac66a (Accuracy: 86.89%)\n",
    "- Run ID: 99710b5186294d3087c48c6b9d05d97a (Accuracy: 86.89%)\n",
    "- Run ID: fca52d99dc7f462aaec30f853dd8835f (Accuracy: 86.89%)\n",
    "\n",
    "### 1.2 Production Models\n",
    "**Purpose:** Models in this stage are deployed to the production environment and used to generate predictions for real-world data.\n",
    "\n",
    "\n",
    "**Criteria for Promotion to Production:**\n",
    "- The model achieves a minimum accuracy of 91% based on project benchmarks.\n",
    "- Precision and recall for both classes (Heart Disease and No Disease) must meet the following thresholds:\n",
    "  - **Precision (Class 1):** ≥ 93%\n",
    "  - **Recall (Class 1):** ≥ 90%\n",
    "  - **F1 Score (Class 1):** ≥ 92%\n",
    "- Confusion matrix analysis shows minimal false positives and negatives.\n",
    "\n",
    "**Example Production Models (Accuracy ≥ 91%):**\n",
    "- Run ID: 5ed9c9b234d646d8ae40492889afa2cc (Accuracy: 91.8%)\n",
    "- Run ID: ed1ed6bae43b454184e4f355928e100f (Accuracy: 91.8%)\n",
    "- Run ID: c794e25ae9af4fa39599015fd32a0f8f (Accuracy: 91.8%)\n",
    "\n",
    "**Production Model Details:**\n",
    "- **Run ID:** ed1ed6bae43b454184e4f355928e100f\n",
    "- **Accuracy:** 91.8%\n",
    "- **Precision (Class 1 - Heart Disease):** 93%\n",
    "- **Recall (Class 1 - Heart Disease):** 90%\n",
    "- **F1 Score (Class 1 - Heart Disease):** 91.5%\n",
    "\n",
    "The model with the highest accuracy is the **Production Model** with **Run ID: ed1ed6bae43b454184e4f355928e100f**, which has an exceptional accuracy of **91.8%**. Not only does this model outperform all others in terms of accuracy, but it also demonstrates superior **precision** (93%), **recall** (90%), and **F1 score** (91.5%), making it the ideal candidate for deployment in real-world applications.\n",
    "\n",
    "### 1.3 Archived Models\n",
    "**Purpose:** Models in this stage are retired and no longer used in production or staging.\n",
    "\n",
    "**Criteria for Archival:**\n",
    "- The model is replaced by a newer version due to performance improvements or changes in data distributions.\n",
    "\n",
    "**Example Archived Models (Accuracy < 85%):**\n",
    "- Run ID: 90fc5634d9414b75ba5f99a17f1ba93f (Accuracy: 75.41%)\n",
    "- Run ID: 239d8b59478b49608ef359379349dc36 (Accuracy: 77.05%)\n",
    "- Run ID: 069d8dbe53fa4c2c9aa7810fc84457b3 (Accuracy: 77.05%)\n",
    "- Run ID: 33d42df32cba415982563e02a2a31db7 (Accuracy: 78.69%)\n",
    "- Run ID: 8b46032f63fa4ef38ae2fb309530c251 (Accuracy: 78.69%)\n",
    "- Run ID: 0460ac7879db4ac783143e11624d20df (Accuracy: 78.69%)\n",
    "- Run ID: 2179602da24f491b85d49372b0fe2bd1 (Accuracy: 80.33%)\n",
    "- Run ID: dd57730c80e34225a067a08c737b0b47 (Accuracy: 80.33%)\n",
    "- Run ID: d20dbcb8fbcb4e788f825f41e76a7eea (Accuracy: 81.97%)\n",
    "- Run ID: c2ce741dff714760b4dbc78288f76b38 (Accuracy: 81.97%)\n",
    "- Run ID: f4c1835538e547df96b43e793e1cf080 (Accuracy: 83.61%)\n",
    "- Run ID: 5fdd811330ef4b2489ee9998e16d99c8 (Accuracy: 83.61%)\n"
   ]
  },
  {
   "cell_type": "markdown",
   "metadata": {
    "id": "rZ8CTLWHFcgB"
   },
   "source": [
    "\n",
    "<p style=\"text-align:center;\">\n",
    "    <font face=\"Georgia\" size=5 color=\"green\"><b>Model Registration</b></font>\n",
    "</p>"
   ]
  },
  {
   "cell_type": "markdown",
   "metadata": {
    "id": "5baFqoOmFpI7"
   },
   "source": [
    "Model Name: heart\n",
    "\n",
    "### Version 2:\n",
    "\n",
    "- **Parameters**:\n",
    "  - Metric: Euclidean\n",
    "  - Weights: Uniform\n",
    "  - n_neighbors: 5\n",
    "  - Algorithm: Auto\n",
    "\n",
    "| Version | Accuracy | Class 1 F1 | Class 1 Precision | Class 1 Recall | Training Time | Stage      |\n",
    "|---------|----------|------------|-------------------|----------------|---------------|------------|\n",
    "| 2       | 0.9180   | 0.9206     | 0.9355            | 0.9063         | 0.0044 mins   | Production |"
   ]
  },
  {
   "cell_type": "markdown",
   "metadata": {
    "id": "GhwU-r9HMKci"
   },
   "source": [
    "\n",
    " <p style=\"text-align:center;\">\n",
    "    <font face=\"Georgia\" size=5 color=\"green\"><b> 5.Deployment to Production</b></font>\n",
    "</p>"
   ]
  },
  {
   "cell_type": "markdown",
   "metadata": {
    "id": "1lVyZOObMctA"
   },
   "source": [
    " We have used CI/CD tools to automatically deploy the models to production. In this phase, all the tests and evaluations are done to ensure that the model works properly in the real environment."
   ]
  },
  {
   "cell_type": "code",
   "execution_count": null,
   "metadata": {
    "id": "M66Cs0PPMdsn"
   },
   "outputs": [],
   "source": [
    "import flask\n",
    "from flask import request, jsonify\n",
    "import joblib\n",
    "import numpy as np\n",
    "\n",
    "model = joblib.load('/content/model.pkl')\n",
    "app = flask.Flask(__name__)\n",
    "\n",
    "@app.route('/predict', methods=['POST'])\n",
    "def predict():\n",
    "    try:\n",
    "\n",
    "        data = request.get_json()\n",
    "        input_data = np.array(data['input']).reshape(1, -1)\n",
    "        prediction = model.predict(input_data)\n",
    "        return jsonify({'prediction': prediction.tolist()})\n",
    "\n",
    "    except Exception as e:\n",
    "        return jsonify({'error': str(e)})\n",
    "\n",
    "\n",
    "if __name__ == '__main__':\n",
    "    app.run(host='0.0.0.0', port=5000)"
   ]
  }
 ],
 "metadata": {
  "colab": {
   "provenance": []
  },
  "kernelspec": {
   "display_name": "Python 3 (ipykernel)",
   "language": "python",
   "name": "python3"
  },
  "language_info": {
   "codemirror_mode": {
    "name": "ipython",
    "version": 3
   },
   "file_extension": ".py",
   "mimetype": "text/x-python",
   "name": "python",
   "nbconvert_exporter": "python",
   "pygments_lexer": "ipython3",
   "version": "3.11.7"
  }
 },
 "nbformat": 4,
 "nbformat_minor": 4
}
