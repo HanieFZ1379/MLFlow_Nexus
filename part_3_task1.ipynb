{
  "nbformat": 4,
  "nbformat_minor": 0,
  "metadata": {
    "colab": {
      "provenance": []
    },
    "kernelspec": {
      "name": "python3",
      "display_name": "Python 3"
    },
    "language_info": {
      "name": "python"
    }
  },
  "cells": [
    {
      "cell_type": "code",
      "execution_count": null,
      "metadata": {
        "id": "9cbKN0lCWdNM"
      },
      "outputs": [],
      "source": [
        "from flask import Flask, request, jsonify\n",
        "import pickle\n",
        "\n",
        "\n",
        "with open('heart_disease_diagnosis_model.pkl', 'rb') as f:\n",
        "    model = pickle.load(f)\n",
        "\n",
        "app = Flask(name)\n",
        "\n",
        "@app.route('/predict', methods=['POST'])\n",
        "def predict():\n",
        "    data = request.get_json()\n",
        "    input_data = data['features']\n",
        "    prediction = int(model.predict([input_data])[0])\n",
        "    return jsonify({'prediction': prediction})\n",
        "\n",
        "\n",
        "if name == 'main':\n",
        "    app.run(host='0.0.0.0', port=5000)\n"
      ]
    }
  ]
}